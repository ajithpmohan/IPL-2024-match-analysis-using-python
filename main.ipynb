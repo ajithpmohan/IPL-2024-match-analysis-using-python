{
 "cells": [
  {
   "cell_type": "code",
   "execution_count": 5,
   "metadata": {},
   "outputs": [],
   "source": [
    "import pandas as pd"
   ]
  },
  {
   "cell_type": "code",
   "execution_count": 6,
   "metadata": {},
   "outputs": [
    {
     "name": "stdout",
     "output_type": "stream",
     "text": [
      "                            team  over         batter          bowler  \\\n",
      "0    Royal Challengers Bengaluru     0        V Kohli        I Sharma   \n",
      "1    Royal Challengers Bengaluru     0        V Kohli        I Sharma   \n",
      "2    Royal Challengers Bengaluru     0   F du Plessis        I Sharma   \n",
      "3    Royal Challengers Bengaluru     0        V Kohli        I Sharma   \n",
      "4    Royal Challengers Bengaluru     0        V Kohli        I Sharma   \n",
      "..                           ...   ...            ...             ...   \n",
      "242               Delhi Capitals    18  Kuldeep Yadav  Mohammed Siraj   \n",
      "243               Delhi Capitals    18       I Sharma  Mohammed Siraj   \n",
      "244               Delhi Capitals    18       I Sharma  Mohammed Siraj   \n",
      "245               Delhi Capitals    18       I Sharma  Mohammed Siraj   \n",
      "246               Delhi Capitals    19  Kuldeep Yadav      Yash Dayal   \n",
      "\n",
      "       non_striker  runs_batter  runs_extras  runs_total     player_out  \\\n",
      "0     F du Plessis            0            0           0            NaN   \n",
      "1     F du Plessis            1            0           1            NaN   \n",
      "2          V Kohli            1            0           1            NaN   \n",
      "3     F du Plessis            0            0           0            NaN   \n",
      "4     F du Plessis            2            0           2            NaN   \n",
      "..             ...          ...          ...         ...            ...   \n",
      "242       I Sharma            1            0           1            NaN   \n",
      "243  Kuldeep Yadav            0            1           1            NaN   \n",
      "244  Kuldeep Yadav            0            0           0            NaN   \n",
      "245  Kuldeep Yadav            0            0           0            NaN   \n",
      "246       I Sharma            0            0           0  Kuldeep Yadav   \n",
      "\n",
      "    wicket_kind fielders  \n",
      "0           NaN       []  \n",
      "1           NaN       []  \n",
      "2           NaN       []  \n",
      "3           NaN       []  \n",
      "4           NaN       []  \n",
      "..          ...      ...  \n",
      "242         NaN       []  \n",
      "243         NaN       []  \n",
      "244         NaN       []  \n",
      "245         NaN       []  \n",
      "246      bowled       []  \n",
      "\n",
      "[247 rows x 11 columns]\n"
     ]
    }
   ],
   "source": [
    "deliveries_df = pd.read_csv(\"./innings_deliveries.csv\")\n",
    "print(deliveries_df)"
   ]
  },
  {
   "cell_type": "code",
   "execution_count": null,
   "metadata": {},
   "outputs": [],
   "source": []
  }
 ],
 "metadata": {
  "kernelspec": {
   "display_name": "env",
   "language": "python",
   "name": "python3"
  },
  "language_info": {
   "codemirror_mode": {
    "name": "ipython",
    "version": 3
   },
   "file_extension": ".py",
   "mimetype": "text/x-python",
   "name": "python",
   "nbconvert_exporter": "python",
   "pygments_lexer": "ipython3",
   "version": "3.12.3"
  }
 },
 "nbformat": 4,
 "nbformat_minor": 2
}
